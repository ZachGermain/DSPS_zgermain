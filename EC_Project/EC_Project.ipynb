{
  "nbformat": 4,
  "nbformat_minor": 0,
  "metadata": {
    "colab": {
      "name": "EC_Project.ipynb",
      "provenance": [],
      "collapsed_sections": [],
      "include_colab_link": true
    },
    "kernelspec": {
      "name": "python3",
      "display_name": "Python 3"
    }
  },
  "cells": [
    {
      "cell_type": "markdown",
      "metadata": {
        "id": "view-in-github",
        "colab_type": "text"
      },
      "source": [
        "<a href=\"https://colab.research.google.com/github/ZachGermain/DSPS_zgermain/blob/master/EC_Project/EC_Project.ipynb\" target=\"_parent\"><img src=\"https://colab.research.google.com/assets/colab-badge.svg\" alt=\"Open In Colab\"/></a>"
      ]
    },
    {
      "cell_type": "code",
      "metadata": {
        "id": "F3mPUg78jeXt",
        "colab_type": "code",
        "colab": {}
      },
      "source": [
        "import pandas as pd\n",
        "import matplotlib.pylab as pl\n",
        "import numpy as np"
      ],
      "execution_count": 0,
      "outputs": []
    },
    {
      "cell_type": "markdown",
      "metadata": {
        "id": "qD3gFp6-Aund",
        "colab_type": "text"
      },
      "source": [
        "Opening and Looking at Data"
      ]
    },
    {
      "cell_type": "code",
      "metadata": {
        "id": "wrOapyIPjrob",
        "colab_type": "code",
        "colab": {
          "base_uri": "https://localhost:8080/",
          "height": 195
        },
        "outputId": "d9e64679-3b92-4206-9de0-61a23cdd8822"
      },
      "source": [
        "astDf = pd.read_csv(\"https://raw.githubusercontent.com/ZachGermain/DSPS_zgermain/master/EC_Project/asteroidsBelt.csv\")\n",
        "astDf.head()"
      ],
      "execution_count": 45,
      "outputs": [
        {
          "output_type": "execute_result",
          "data": {
            "text/html": [
              "<div>\n",
              "<style scoped>\n",
              "    .dataframe tbody tr th:only-of-type {\n",
              "        vertical-align: middle;\n",
              "    }\n",
              "\n",
              "    .dataframe tbody tr th {\n",
              "        vertical-align: top;\n",
              "    }\n",
              "\n",
              "    .dataframe thead th {\n",
              "        text-align: right;\n",
              "    }\n",
              "</style>\n",
              "<table border=\"1\" class=\"dataframe\">\n",
              "  <thead>\n",
              "    <tr style=\"text-align: right;\">\n",
              "      <th></th>\n",
              "      <th>id</th>\n",
              "      <th>a</th>\n",
              "      <th>e</th>\n",
              "      <th>i</th>\n",
              "      <th>spec_B</th>\n",
              "    </tr>\n",
              "  </thead>\n",
              "  <tbody>\n",
              "    <tr>\n",
              "      <th>0</th>\n",
              "      <td>a0000001</td>\n",
              "      <td>2.769165</td>\n",
              "      <td>0.076009</td>\n",
              "      <td>10.594067</td>\n",
              "      <td>C</td>\n",
              "    </tr>\n",
              "    <tr>\n",
              "      <th>1</th>\n",
              "      <td>a0000002</td>\n",
              "      <td>2.772466</td>\n",
              "      <td>0.230337</td>\n",
              "      <td>34.836234</td>\n",
              "      <td>B</td>\n",
              "    </tr>\n",
              "    <tr>\n",
              "      <th>2</th>\n",
              "      <td>a0000003</td>\n",
              "      <td>2.669150</td>\n",
              "      <td>0.256942</td>\n",
              "      <td>12.988919</td>\n",
              "      <td>Sk</td>\n",
              "    </tr>\n",
              "    <tr>\n",
              "      <th>3</th>\n",
              "      <td>a0000004</td>\n",
              "      <td>2.361418</td>\n",
              "      <td>0.088721</td>\n",
              "      <td>7.141771</td>\n",
              "      <td>V</td>\n",
              "    </tr>\n",
              "    <tr>\n",
              "      <th>4</th>\n",
              "      <td>a0000005</td>\n",
              "      <td>2.574249</td>\n",
              "      <td>0.191095</td>\n",
              "      <td>5.366988</td>\n",
              "      <td>S</td>\n",
              "    </tr>\n",
              "  </tbody>\n",
              "</table>\n",
              "</div>"
            ],
            "text/plain": [
              "         id         a         e          i spec_B\n",
              "0  a0000001  2.769165  0.076009  10.594067      C\n",
              "1  a0000002  2.772466  0.230337  34.836234      B\n",
              "2  a0000003  2.669150  0.256942  12.988919     Sk\n",
              "3  a0000004  2.361418  0.088721   7.141771      V\n",
              "4  a0000005  2.574249  0.191095   5.366988      S"
            ]
          },
          "metadata": {
            "tags": []
          },
          "execution_count": 45
        }
      ]
    },
    {
      "cell_type": "code",
      "metadata": {
        "id": "BnTIvzA--lok",
        "colab_type": "code",
        "colab": {
          "base_uri": "https://localhost:8080/",
          "height": 34
        },
        "outputId": "186a82ad-8601-4272-a5c7-1108e577d022"
      },
      "source": [
        "astDf.shape"
      ],
      "execution_count": 46,
      "outputs": [
        {
          "output_type": "execute_result",
          "data": {
            "text/plain": [
              "(1256, 5)"
            ]
          },
          "metadata": {
            "tags": []
          },
          "execution_count": 46
        }
      ]
    },
    {
      "cell_type": "code",
      "metadata": {
        "id": "_hTY_SA3A17C",
        "colab_type": "code",
        "colab": {
          "base_uri": "https://localhost:8080/",
          "height": 284
        },
        "outputId": "f919e266-5433-4513-f9f0-9d4cb5a6b858"
      },
      "source": [
        "astDf.describe()"
      ],
      "execution_count": 47,
      "outputs": [
        {
          "output_type": "execute_result",
          "data": {
            "text/html": [
              "<div>\n",
              "<style scoped>\n",
              "    .dataframe tbody tr th:only-of-type {\n",
              "        vertical-align: middle;\n",
              "    }\n",
              "\n",
              "    .dataframe tbody tr th {\n",
              "        vertical-align: top;\n",
              "    }\n",
              "\n",
              "    .dataframe thead th {\n",
              "        text-align: right;\n",
              "    }\n",
              "</style>\n",
              "<table border=\"1\" class=\"dataframe\">\n",
              "  <thead>\n",
              "    <tr style=\"text-align: right;\">\n",
              "      <th></th>\n",
              "      <th>a</th>\n",
              "      <th>e</th>\n",
              "      <th>i</th>\n",
              "    </tr>\n",
              "  </thead>\n",
              "  <tbody>\n",
              "    <tr>\n",
              "      <th>count</th>\n",
              "      <td>1256.000000</td>\n",
              "      <td>1256.000000</td>\n",
              "      <td>1256.000000</td>\n",
              "    </tr>\n",
              "    <tr>\n",
              "      <th>mean</th>\n",
              "      <td>2.668575</td>\n",
              "      <td>0.142122</td>\n",
              "      <td>8.732625</td>\n",
              "    </tr>\n",
              "    <tr>\n",
              "      <th>std</th>\n",
              "      <td>0.299855</td>\n",
              "      <td>0.071539</td>\n",
              "      <td>5.978991</td>\n",
              "    </tr>\n",
              "    <tr>\n",
              "      <th>min</th>\n",
              "      <td>1.817514</td>\n",
              "      <td>0.004735</td>\n",
              "      <td>0.264810</td>\n",
              "    </tr>\n",
              "    <tr>\n",
              "      <th>25%</th>\n",
              "      <td>2.415790</td>\n",
              "      <td>0.085149</td>\n",
              "      <td>4.625334</td>\n",
              "    </tr>\n",
              "    <tr>\n",
              "      <th>50%</th>\n",
              "      <td>2.727534</td>\n",
              "      <td>0.139018</td>\n",
              "      <td>7.455825</td>\n",
              "    </tr>\n",
              "    <tr>\n",
              "      <th>75%</th>\n",
              "      <td>2.795298</td>\n",
              "      <td>0.188787</td>\n",
              "      <td>10.967992</td>\n",
              "    </tr>\n",
              "    <tr>\n",
              "      <th>max</th>\n",
              "      <td>4.283402</td>\n",
              "      <td>0.598097</td>\n",
              "      <td>38.936411</td>\n",
              "    </tr>\n",
              "  </tbody>\n",
              "</table>\n",
              "</div>"
            ],
            "text/plain": [
              "                 a            e            i\n",
              "count  1256.000000  1256.000000  1256.000000\n",
              "mean      2.668575     0.142122     8.732625\n",
              "std       0.299855     0.071539     5.978991\n",
              "min       1.817514     0.004735     0.264810\n",
              "25%       2.415790     0.085149     4.625334\n",
              "50%       2.727534     0.139018     7.455825\n",
              "75%       2.795298     0.188787    10.967992\n",
              "max       4.283402     0.598097    38.936411"
            ]
          },
          "metadata": {
            "tags": []
          },
          "execution_count": 47
        }
      ]
    },
    {
      "cell_type": "code",
      "metadata": {
        "id": "1b1XRgDNkE3f",
        "colab_type": "code",
        "colab": {
          "base_uri": "https://localhost:8080/",
          "height": 454
        },
        "outputId": "45fabd77-92a3-4700-ae70-3364c7486a1b"
      },
      "source": [
        "set(astDf.spec_B)"
      ],
      "execution_count": 48,
      "outputs": [
        {
          "output_type": "execute_result",
          "data": {
            "text/plain": [
              "{'A',\n",
              " 'B',\n",
              " 'C',\n",
              " 'Cb',\n",
              " 'Cg',\n",
              " 'Cgh',\n",
              " 'Ch',\n",
              " 'D',\n",
              " 'K',\n",
              " 'L',\n",
              " 'Ld',\n",
              " 'O',\n",
              " 'R',\n",
              " 'S',\n",
              " 'Sa',\n",
              " 'Sk',\n",
              " 'Sl',\n",
              " 'Sq',\n",
              " 'Sr',\n",
              " 'T',\n",
              " 'U',\n",
              " 'V',\n",
              " 'X',\n",
              " 'Xc',\n",
              " 'Xe',\n",
              " 'Xk'}"
            ]
          },
          "metadata": {
            "tags": []
          },
          "execution_count": 48
        }
      ]
    },
    {
      "cell_type": "code",
      "metadata": {
        "id": "hE9HcwkF-tsy",
        "colab_type": "code",
        "colab": {
          "base_uri": "https://localhost:8080/",
          "height": 454
        },
        "outputId": "c90d7989-afb4-472b-fcc2-16af412ed5f3"
      },
      "source": [
        "for i in set(astDf.spec_B):\n",
        "  print(\"{0}: {1}\".format(i, list(astDf.spec_B).count(i)))"
      ],
      "execution_count": 49,
      "outputs": [
        {
          "output_type": "stream",
          "text": [
            "A: 12\n",
            "T: 12\n",
            "K: 31\n",
            "Xc: 59\n",
            "Sk: 12\n",
            "R: 4\n",
            "Sq: 44\n",
            "Xk: 39\n",
            "S: 348\n",
            "Cg: 9\n",
            "O: 1\n",
            "X: 111\n",
            "L: 33\n",
            "U: 1\n",
            "C: 139\n",
            "Sl: 47\n",
            "D: 8\n",
            "Ch: 135\n",
            "V: 35\n",
            "B: 56\n",
            "Cgh: 15\n",
            "Sa: 29\n",
            "Xe: 24\n",
            "Sr: 11\n",
            "Ld: 11\n",
            "Cb: 30\n"
          ],
          "name": "stdout"
        }
      ]
    },
    {
      "cell_type": "markdown",
      "metadata": {
        "id": "aFpc-qv2A-In",
        "colab_type": "text"
      },
      "source": [
        "Some data processing: \n",
        "  Replacing transitional types with original types.\n",
        "    Lets similar types be grouped together.\n",
        "  Getting rid of types with less than 10 asteroids as these are closer to outliers than clusters."
      ]
    },
    {
      "cell_type": "code",
      "metadata": {
        "id": "WkhtEGbe6UOh",
        "colab_type": "code",
        "colab": {
          "base_uri": "https://localhost:8080/",
          "height": 34
        },
        "outputId": "71543be9-ab2b-4cda-f6ac-9744005d3835"
      },
      "source": [
        "cTransitions = [ 'Cb', 'Cg', 'Cgh', 'Ch' ]\n",
        "sTransitions = [ 'Sa', 'Sk', 'Sl', 'Sq', 'Sr' ]\n",
        "xTransitions  = [ 'Xc', 'Xe', 'Xk' ]\n",
        "lTransitions = [ 'Ld' ]\n",
        "\n",
        "for c in cTransitions:\n",
        "  astDf[\"spec_B\"] = astDf[\"spec_B\"].str.replace(c, 'C')\n",
        "\n",
        "for s in sTransitions:\n",
        "  astDf[\"spec_B\"] = astDf[\"spec_B\"].str.replace(s, 'S')\n",
        "\n",
        "for x in xTransitions:\n",
        "  astDf[\"spec_B\"] = astDf[\"spec_B\"].str.replace(x, 'X')\n",
        "\n",
        "for l in lTransitions:\n",
        "  astDf[\"spec_B\"] = astDf[\"spec_B\"].str.replace(l, 'L')\n",
        "\n",
        "set(astDf.spec_B)"
      ],
      "execution_count": 50,
      "outputs": [
        {
          "output_type": "execute_result",
          "data": {
            "text/plain": [
              "{'A', 'B', 'C', 'D', 'K', 'L', 'O', 'R', 'S', 'T', 'U', 'V', 'X'}"
            ]
          },
          "metadata": {
            "tags": []
          },
          "execution_count": 50
        }
      ]
    },
    {
      "cell_type": "code",
      "metadata": {
        "id": "eZeEQL4DAtHr",
        "colab_type": "code",
        "colab": {
          "base_uri": "https://localhost:8080/",
          "height": 34
        },
        "outputId": "51c7d800-b5bf-4cd7-e6ae-a544f2525935"
      },
      "source": [
        "tinyTypes = [ 'D', 'O', 'R', 'U' ]\n",
        "\n",
        "for t in tinyTypes:\n",
        "  astDf = astDf[ astDf[\"spec_B\"] != t ]\n",
        "\n",
        "set(astDf.spec_B)"
      ],
      "execution_count": 51,
      "outputs": [
        {
          "output_type": "execute_result",
          "data": {
            "text/plain": [
              "{'A', 'B', 'C', 'K', 'L', 'S', 'T', 'V', 'X'}"
            ]
          },
          "metadata": {
            "tags": []
          },
          "execution_count": 51
        }
      ]
    }
  ]
}