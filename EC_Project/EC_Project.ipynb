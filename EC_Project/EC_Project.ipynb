{
  "nbformat": 4,
  "nbformat_minor": 0,
  "metadata": {
    "colab": {
      "name": "EC_Project",
      "provenance": [],
      "collapsed_sections": [],
      "include_colab_link": true
    },
    "kernelspec": {
      "name": "python3",
      "display_name": "Python 3"
    }
  },
  "cells": [
    {
      "cell_type": "markdown",
      "metadata": {
        "id": "view-in-github",
        "colab_type": "text"
      },
      "source": [
        "<a href=\"https://colab.research.google.com/github/ZachGermain/DSPS_zgermain/blob/master/EC_Project/EC_Project.ipynb\" target=\"_parent\"><img src=\"https://colab.research.google.com/assets/colab-badge.svg\" alt=\"Open In Colab\"/></a>"
      ]
    },
    {
      "cell_type": "code",
      "metadata": {
        "id": "F3mPUg78jeXt",
        "colab_type": "code",
        "colab": {}
      },
      "source": [
        "import pandas as pd\n",
        "import matplotlib.pylab as pl\n",
        "import numpy as np\n",
        "import sklearn as skl\n",
        "from sklearn import preprocessing #sklearn does not automatically import subpackages\n",
        "from sklearn import manifold\n",
        "from sklearn import cluster"
      ],
      "execution_count": 0,
      "outputs": []
    },
    {
      "cell_type": "markdown",
      "metadata": {
        "id": "qD3gFp6-Aund",
        "colab_type": "text"
      },
      "source": [
        "# **Data Opening and Preprocessing**"
      ]
    },
    {
      "cell_type": "code",
      "metadata": {
        "id": "wrOapyIPjrob",
        "colab_type": "code",
        "outputId": "136cc62c-5b36-4413-bb4a-6e441ae3ab7a",
        "colab": {
          "base_uri": "https://localhost:8080/",
          "height": 225
        }
      },
      "source": [
        "astDf = pd.read_csv(\"https://raw.githubusercontent.com/ZachGermain/DSPS_zgermain/master/EC_Project/asteroidsBelt.csv\")\n",
        "astDf = astDf.set_index('id')\n",
        "astDf.head()"
      ],
      "execution_count": 2,
      "outputs": [
        {
          "output_type": "execute_result",
          "data": {
            "text/html": [
              "<div>\n",
              "<style scoped>\n",
              "    .dataframe tbody tr th:only-of-type {\n",
              "        vertical-align: middle;\n",
              "    }\n",
              "\n",
              "    .dataframe tbody tr th {\n",
              "        vertical-align: top;\n",
              "    }\n",
              "\n",
              "    .dataframe thead th {\n",
              "        text-align: right;\n",
              "    }\n",
              "</style>\n",
              "<table border=\"1\" class=\"dataframe\">\n",
              "  <thead>\n",
              "    <tr style=\"text-align: right;\">\n",
              "      <th></th>\n",
              "      <th>a</th>\n",
              "      <th>e</th>\n",
              "      <th>i</th>\n",
              "      <th>spec_B</th>\n",
              "    </tr>\n",
              "    <tr>\n",
              "      <th>id</th>\n",
              "      <th></th>\n",
              "      <th></th>\n",
              "      <th></th>\n",
              "      <th></th>\n",
              "    </tr>\n",
              "  </thead>\n",
              "  <tbody>\n",
              "    <tr>\n",
              "      <th>a0000001</th>\n",
              "      <td>2.769165</td>\n",
              "      <td>0.076009</td>\n",
              "      <td>10.594067</td>\n",
              "      <td>C</td>\n",
              "    </tr>\n",
              "    <tr>\n",
              "      <th>a0000002</th>\n",
              "      <td>2.772466</td>\n",
              "      <td>0.230337</td>\n",
              "      <td>34.836234</td>\n",
              "      <td>B</td>\n",
              "    </tr>\n",
              "    <tr>\n",
              "      <th>a0000003</th>\n",
              "      <td>2.669150</td>\n",
              "      <td>0.256942</td>\n",
              "      <td>12.988919</td>\n",
              "      <td>Sk</td>\n",
              "    </tr>\n",
              "    <tr>\n",
              "      <th>a0000004</th>\n",
              "      <td>2.361418</td>\n",
              "      <td>0.088721</td>\n",
              "      <td>7.141771</td>\n",
              "      <td>V</td>\n",
              "    </tr>\n",
              "    <tr>\n",
              "      <th>a0000005</th>\n",
              "      <td>2.574249</td>\n",
              "      <td>0.191095</td>\n",
              "      <td>5.366988</td>\n",
              "      <td>S</td>\n",
              "    </tr>\n",
              "  </tbody>\n",
              "</table>\n",
              "</div>"
            ],
            "text/plain": [
              "                 a         e          i spec_B\n",
              "id                                            \n",
              "a0000001  2.769165  0.076009  10.594067      C\n",
              "a0000002  2.772466  0.230337  34.836234      B\n",
              "a0000003  2.669150  0.256942  12.988919     Sk\n",
              "a0000004  2.361418  0.088721   7.141771      V\n",
              "a0000005  2.574249  0.191095   5.366988      S"
            ]
          },
          "metadata": {
            "tags": []
          },
          "execution_count": 2
        }
      ]
    },
    {
      "cell_type": "code",
      "metadata": {
        "id": "BnTIvzA--lok",
        "colab_type": "code",
        "outputId": "c5f3a509-e1a2-4fba-d027-e85ee5724478",
        "colab": {
          "base_uri": "https://localhost:8080/",
          "height": 34
        }
      },
      "source": [
        "astDf.shape"
      ],
      "execution_count": 3,
      "outputs": [
        {
          "output_type": "execute_result",
          "data": {
            "text/plain": [
              "(1256, 4)"
            ]
          },
          "metadata": {
            "tags": []
          },
          "execution_count": 3
        }
      ]
    },
    {
      "cell_type": "code",
      "metadata": {
        "id": "_hTY_SA3A17C",
        "colab_type": "code",
        "outputId": "e2598b4d-c38f-43f0-9797-3cb63bb0a28d",
        "colab": {
          "base_uri": "https://localhost:8080/",
          "height": 284
        }
      },
      "source": [
        "astDf.describe()"
      ],
      "execution_count": 4,
      "outputs": [
        {
          "output_type": "execute_result",
          "data": {
            "text/html": [
              "<div>\n",
              "<style scoped>\n",
              "    .dataframe tbody tr th:only-of-type {\n",
              "        vertical-align: middle;\n",
              "    }\n",
              "\n",
              "    .dataframe tbody tr th {\n",
              "        vertical-align: top;\n",
              "    }\n",
              "\n",
              "    .dataframe thead th {\n",
              "        text-align: right;\n",
              "    }\n",
              "</style>\n",
              "<table border=\"1\" class=\"dataframe\">\n",
              "  <thead>\n",
              "    <tr style=\"text-align: right;\">\n",
              "      <th></th>\n",
              "      <th>a</th>\n",
              "      <th>e</th>\n",
              "      <th>i</th>\n",
              "    </tr>\n",
              "  </thead>\n",
              "  <tbody>\n",
              "    <tr>\n",
              "      <th>count</th>\n",
              "      <td>1256.000000</td>\n",
              "      <td>1256.000000</td>\n",
              "      <td>1256.000000</td>\n",
              "    </tr>\n",
              "    <tr>\n",
              "      <th>mean</th>\n",
              "      <td>2.668575</td>\n",
              "      <td>0.142122</td>\n",
              "      <td>8.732625</td>\n",
              "    </tr>\n",
              "    <tr>\n",
              "      <th>std</th>\n",
              "      <td>0.299855</td>\n",
              "      <td>0.071539</td>\n",
              "      <td>5.978991</td>\n",
              "    </tr>\n",
              "    <tr>\n",
              "      <th>min</th>\n",
              "      <td>1.817514</td>\n",
              "      <td>0.004735</td>\n",
              "      <td>0.264810</td>\n",
              "    </tr>\n",
              "    <tr>\n",
              "      <th>25%</th>\n",
              "      <td>2.415790</td>\n",
              "      <td>0.085149</td>\n",
              "      <td>4.625334</td>\n",
              "    </tr>\n",
              "    <tr>\n",
              "      <th>50%</th>\n",
              "      <td>2.727534</td>\n",
              "      <td>0.139018</td>\n",
              "      <td>7.455825</td>\n",
              "    </tr>\n",
              "    <tr>\n",
              "      <th>75%</th>\n",
              "      <td>2.795298</td>\n",
              "      <td>0.188787</td>\n",
              "      <td>10.967992</td>\n",
              "    </tr>\n",
              "    <tr>\n",
              "      <th>max</th>\n",
              "      <td>4.283402</td>\n",
              "      <td>0.598097</td>\n",
              "      <td>38.936411</td>\n",
              "    </tr>\n",
              "  </tbody>\n",
              "</table>\n",
              "</div>"
            ],
            "text/plain": [
              "                 a            e            i\n",
              "count  1256.000000  1256.000000  1256.000000\n",
              "mean      2.668575     0.142122     8.732625\n",
              "std       0.299855     0.071539     5.978991\n",
              "min       1.817514     0.004735     0.264810\n",
              "25%       2.415790     0.085149     4.625334\n",
              "50%       2.727534     0.139018     7.455825\n",
              "75%       2.795298     0.188787    10.967992\n",
              "max       4.283402     0.598097    38.936411"
            ]
          },
          "metadata": {
            "tags": []
          },
          "execution_count": 4
        }
      ]
    },
    {
      "cell_type": "code",
      "metadata": {
        "id": "1b1XRgDNkE3f",
        "colab_type": "code",
        "outputId": "43c017c0-2ab2-4f38-bba1-366e99b478e8",
        "colab": {
          "base_uri": "https://localhost:8080/",
          "height": 454
        }
      },
      "source": [
        "set(astDf.spec_B)"
      ],
      "execution_count": 5,
      "outputs": [
        {
          "output_type": "execute_result",
          "data": {
            "text/plain": [
              "{'A',\n",
              " 'B',\n",
              " 'C',\n",
              " 'Cb',\n",
              " 'Cg',\n",
              " 'Cgh',\n",
              " 'Ch',\n",
              " 'D',\n",
              " 'K',\n",
              " 'L',\n",
              " 'Ld',\n",
              " 'O',\n",
              " 'R',\n",
              " 'S',\n",
              " 'Sa',\n",
              " 'Sk',\n",
              " 'Sl',\n",
              " 'Sq',\n",
              " 'Sr',\n",
              " 'T',\n",
              " 'U',\n",
              " 'V',\n",
              " 'X',\n",
              " 'Xc',\n",
              " 'Xe',\n",
              " 'Xk'}"
            ]
          },
          "metadata": {
            "tags": []
          },
          "execution_count": 5
        }
      ]
    },
    {
      "cell_type": "code",
      "metadata": {
        "id": "hE9HcwkF-tsy",
        "colab_type": "code",
        "outputId": "d2c75ab8-0ebf-4305-d812-a26f4957669f",
        "colab": {
          "base_uri": "https://localhost:8080/",
          "height": 454
        }
      },
      "source": [
        "for i in set(astDf.spec_B):\n",
        "  print(\"{0}: {1}\".format(i, list(astDf.spec_B).count(i)))"
      ],
      "execution_count": 6,
      "outputs": [
        {
          "output_type": "stream",
          "text": [
            "Xk: 39\n",
            "X: 111\n",
            "Sr: 11\n",
            "Cb: 30\n",
            "Sa: 29\n",
            "A: 12\n",
            "C: 139\n",
            "D: 8\n",
            "Cgh: 15\n",
            "S: 348\n",
            "Ch: 135\n",
            "T: 12\n",
            "L: 33\n",
            "Sk: 12\n",
            "Sq: 44\n",
            "Xe: 24\n",
            "Ld: 11\n",
            "B: 56\n",
            "Sl: 47\n",
            "V: 35\n",
            "O: 1\n",
            "U: 1\n",
            "K: 31\n",
            "Cg: 9\n",
            "R: 4\n",
            "Xc: 59\n"
          ],
          "name": "stdout"
        }
      ]
    },
    {
      "cell_type": "markdown",
      "metadata": {
        "id": "BFRQHGUBHwLo",
        "colab_type": "text"
      },
      "source": [
        "## **Data Reduction**"
      ]
    },
    {
      "cell_type": "markdown",
      "metadata": {
        "id": "aFpc-qv2A-In",
        "colab_type": "text"
      },
      "source": [
        "Some data preprocessing: \n",
        "  Replacing transitional types with original types.\n",
        "    Lets similar types be grouped together.\n",
        "  Getting rid of types with less than 5% of the asteroids of the S-type as these are closer to outliers than clusters."
      ]
    },
    {
      "cell_type": "code",
      "metadata": {
        "id": "WkhtEGbe6UOh",
        "colab_type": "code",
        "outputId": "777795af-dcb7-4e5a-9c5f-59f2442291ae",
        "colab": {
          "base_uri": "https://localhost:8080/",
          "height": 34
        }
      },
      "source": [
        "cTransitions = [ 'Cb', 'Cg', 'Cgh', 'Ch' ]\n",
        "sTransitions = [ 'Sa', 'Sk', 'Sl', 'Sq', 'Sr' ]\n",
        "xTransitions  = [ 'Xc', 'Xe', 'Xk' ]\n",
        "lTransitions = [ 'Ld' ]\n",
        "\n",
        "for c in cTransitions:\n",
        "  astDf[\"spec_B\"] = astDf[\"spec_B\"].str.replace(c, 'C')\n",
        "\n",
        "for s in sTransitions:\n",
        "  astDf[\"spec_B\"] = astDf[\"spec_B\"].str.replace(s, 'S')\n",
        "\n",
        "for x in xTransitions:\n",
        "  astDf[\"spec_B\"] = astDf[\"spec_B\"].str.replace(x, 'X')\n",
        "\n",
        "for l in lTransitions:\n",
        "  astDf[\"spec_B\"] = astDf[\"spec_B\"].str.replace(l, 'L')\n",
        "\n",
        "set(astDf.spec_B)"
      ],
      "execution_count": 7,
      "outputs": [
        {
          "output_type": "execute_result",
          "data": {
            "text/plain": [
              "{'A', 'B', 'C', 'D', 'K', 'L', 'O', 'R', 'S', 'T', 'U', 'V', 'X'}"
            ]
          },
          "metadata": {
            "tags": []
          },
          "execution_count": 7
        }
      ]
    },
    {
      "cell_type": "code",
      "metadata": {
        "id": "eZeEQL4DAtHr",
        "colab_type": "code",
        "outputId": "071bfafc-99a7-4b05-e093-ba53ac25997d",
        "colab": {
          "base_uri": "https://localhost:8080/",
          "height": 34
        }
      },
      "source": [
        "tinyTypes = [ 'A', 'D', 'O', 'R', 'T', 'U' ]\n",
        "\n",
        "for t in tinyTypes:\n",
        "  astDf = astDf[ astDf[\"spec_B\"] != t ]\n",
        "\n",
        "set(astDf.spec_B)"
      ],
      "execution_count": 8,
      "outputs": [
        {
          "output_type": "execute_result",
          "data": {
            "text/plain": [
              "{'B', 'C', 'K', 'L', 'S', 'V', 'X'}"
            ]
          },
          "metadata": {
            "tags": []
          },
          "execution_count": 8
        }
      ]
    },
    {
      "cell_type": "code",
      "metadata": {
        "id": "LfgjELekDe3b",
        "colab_type": "code",
        "outputId": "2f0759d2-5d45-47ef-8890-d6eb637be766",
        "colab": {
          "base_uri": "https://localhost:8080/",
          "height": 134
        }
      },
      "source": [
        "for i in set(astDf.spec_B):\n",
        "  print(\"{0}: {1}\".format(i, list(astDf.spec_B).count(i)))"
      ],
      "execution_count": 9,
      "outputs": [
        {
          "output_type": "stream",
          "text": [
            "L: 44\n",
            "C: 328\n",
            "K: 31\n",
            "B: 56\n",
            "S: 491\n",
            "X: 233\n",
            "V: 35\n"
          ],
          "name": "stdout"
        }
      ]
    },
    {
      "cell_type": "code",
      "metadata": {
        "id": "IgdDP1CZDgiZ",
        "colab_type": "code",
        "outputId": "8c973ef5-d19c-46ff-f294-c8982d2cb0ba",
        "colab": {
          "base_uri": "https://localhost:8080/",
          "height": 225
        }
      },
      "source": [
        "astDf.head()"
      ],
      "execution_count": 10,
      "outputs": [
        {
          "output_type": "execute_result",
          "data": {
            "text/html": [
              "<div>\n",
              "<style scoped>\n",
              "    .dataframe tbody tr th:only-of-type {\n",
              "        vertical-align: middle;\n",
              "    }\n",
              "\n",
              "    .dataframe tbody tr th {\n",
              "        vertical-align: top;\n",
              "    }\n",
              "\n",
              "    .dataframe thead th {\n",
              "        text-align: right;\n",
              "    }\n",
              "</style>\n",
              "<table border=\"1\" class=\"dataframe\">\n",
              "  <thead>\n",
              "    <tr style=\"text-align: right;\">\n",
              "      <th></th>\n",
              "      <th>a</th>\n",
              "      <th>e</th>\n",
              "      <th>i</th>\n",
              "      <th>spec_B</th>\n",
              "    </tr>\n",
              "    <tr>\n",
              "      <th>id</th>\n",
              "      <th></th>\n",
              "      <th></th>\n",
              "      <th></th>\n",
              "      <th></th>\n",
              "    </tr>\n",
              "  </thead>\n",
              "  <tbody>\n",
              "    <tr>\n",
              "      <th>a0000001</th>\n",
              "      <td>2.769165</td>\n",
              "      <td>0.076009</td>\n",
              "      <td>10.594067</td>\n",
              "      <td>C</td>\n",
              "    </tr>\n",
              "    <tr>\n",
              "      <th>a0000002</th>\n",
              "      <td>2.772466</td>\n",
              "      <td>0.230337</td>\n",
              "      <td>34.836234</td>\n",
              "      <td>B</td>\n",
              "    </tr>\n",
              "    <tr>\n",
              "      <th>a0000003</th>\n",
              "      <td>2.669150</td>\n",
              "      <td>0.256942</td>\n",
              "      <td>12.988919</td>\n",
              "      <td>S</td>\n",
              "    </tr>\n",
              "    <tr>\n",
              "      <th>a0000004</th>\n",
              "      <td>2.361418</td>\n",
              "      <td>0.088721</td>\n",
              "      <td>7.141771</td>\n",
              "      <td>V</td>\n",
              "    </tr>\n",
              "    <tr>\n",
              "      <th>a0000005</th>\n",
              "      <td>2.574249</td>\n",
              "      <td>0.191095</td>\n",
              "      <td>5.366988</td>\n",
              "      <td>S</td>\n",
              "    </tr>\n",
              "  </tbody>\n",
              "</table>\n",
              "</div>"
            ],
            "text/plain": [
              "                 a         e          i spec_B\n",
              "id                                            \n",
              "a0000001  2.769165  0.076009  10.594067      C\n",
              "a0000002  2.772466  0.230337  34.836234      B\n",
              "a0000003  2.669150  0.256942  12.988919      S\n",
              "a0000004  2.361418  0.088721   7.141771      V\n",
              "a0000005  2.574249  0.191095   5.366988      S"
            ]
          },
          "metadata": {
            "tags": []
          },
          "execution_count": 10
        }
      ]
    },
    {
      "cell_type": "code",
      "metadata": {
        "id": "WcVSdRPDDiTE",
        "colab_type": "code",
        "outputId": "9be31689-ce4d-4e8f-e3fd-2d0c30fdcfda",
        "colab": {
          "base_uri": "https://localhost:8080/",
          "height": 284
        }
      },
      "source": [
        "astDf.describe()"
      ],
      "execution_count": 11,
      "outputs": [
        {
          "output_type": "execute_result",
          "data": {
            "text/html": [
              "<div>\n",
              "<style scoped>\n",
              "    .dataframe tbody tr th:only-of-type {\n",
              "        vertical-align: middle;\n",
              "    }\n",
              "\n",
              "    .dataframe tbody tr th {\n",
              "        vertical-align: top;\n",
              "    }\n",
              "\n",
              "    .dataframe thead th {\n",
              "        text-align: right;\n",
              "    }\n",
              "</style>\n",
              "<table border=\"1\" class=\"dataframe\">\n",
              "  <thead>\n",
              "    <tr style=\"text-align: right;\">\n",
              "      <th></th>\n",
              "      <th>a</th>\n",
              "      <th>e</th>\n",
              "      <th>i</th>\n",
              "    </tr>\n",
              "  </thead>\n",
              "  <tbody>\n",
              "    <tr>\n",
              "      <th>count</th>\n",
              "      <td>1218.000000</td>\n",
              "      <td>1218.000000</td>\n",
              "      <td>1218.000000</td>\n",
              "    </tr>\n",
              "    <tr>\n",
              "      <th>mean</th>\n",
              "      <td>2.664952</td>\n",
              "      <td>0.142884</td>\n",
              "      <td>8.695008</td>\n",
              "    </tr>\n",
              "    <tr>\n",
              "      <th>std</th>\n",
              "      <td>0.293857</td>\n",
              "      <td>0.071732</td>\n",
              "      <td>5.954243</td>\n",
              "    </tr>\n",
              "    <tr>\n",
              "      <th>min</th>\n",
              "      <td>1.817514</td>\n",
              "      <td>0.004735</td>\n",
              "      <td>0.264810</td>\n",
              "    </tr>\n",
              "    <tr>\n",
              "      <th>25%</th>\n",
              "      <td>2.414451</td>\n",
              "      <td>0.085559</td>\n",
              "      <td>4.620034</td>\n",
              "    </tr>\n",
              "    <tr>\n",
              "      <th>50%</th>\n",
              "      <td>2.726381</td>\n",
              "      <td>0.140029</td>\n",
              "      <td>7.459324</td>\n",
              "    </tr>\n",
              "    <tr>\n",
              "      <th>75%</th>\n",
              "      <td>2.793944</td>\n",
              "      <td>0.190248</td>\n",
              "      <td>10.897491</td>\n",
              "    </tr>\n",
              "    <tr>\n",
              "      <th>max</th>\n",
              "      <td>4.283402</td>\n",
              "      <td>0.598097</td>\n",
              "      <td>38.936411</td>\n",
              "    </tr>\n",
              "  </tbody>\n",
              "</table>\n",
              "</div>"
            ],
            "text/plain": [
              "                 a            e            i\n",
              "count  1218.000000  1218.000000  1218.000000\n",
              "mean      2.664952     0.142884     8.695008\n",
              "std       0.293857     0.071732     5.954243\n",
              "min       1.817514     0.004735     0.264810\n",
              "25%       2.414451     0.085559     4.620034\n",
              "50%       2.726381     0.140029     7.459324\n",
              "75%       2.793944     0.190248    10.897491\n",
              "max       4.283402     0.598097    38.936411"
            ]
          },
          "metadata": {
            "tags": []
          },
          "execution_count": 11
        }
      ]
    },
    {
      "cell_type": "markdown",
      "metadata": {
        "id": "sU8wWrCPGVIb",
        "colab_type": "text"
      },
      "source": [
        "The reduction does not seem to have a significant effect on the data distribution."
      ]
    },
    {
      "cell_type": "markdown",
      "metadata": {
        "id": "VAoYD21JKPL9",
        "colab_type": "text"
      },
      "source": [
        "## **Separate Data into Orbital Parameters and Taxonomy**"
      ]
    },
    {
      "cell_type": "code",
      "metadata": {
        "id": "ToA7FACVKfQC",
        "colab_type": "code",
        "colab": {
          "base_uri": "https://localhost:8080/",
          "height": 225
        },
        "outputId": "b34b222f-6b0f-45a2-f00a-783c7978c44e"
      },
      "source": [
        "taxonomy = astDf[['spec_B']]\n",
        "taxonomy.head()"
      ],
      "execution_count": 12,
      "outputs": [
        {
          "output_type": "execute_result",
          "data": {
            "text/html": [
              "<div>\n",
              "<style scoped>\n",
              "    .dataframe tbody tr th:only-of-type {\n",
              "        vertical-align: middle;\n",
              "    }\n",
              "\n",
              "    .dataframe tbody tr th {\n",
              "        vertical-align: top;\n",
              "    }\n",
              "\n",
              "    .dataframe thead th {\n",
              "        text-align: right;\n",
              "    }\n",
              "</style>\n",
              "<table border=\"1\" class=\"dataframe\">\n",
              "  <thead>\n",
              "    <tr style=\"text-align: right;\">\n",
              "      <th></th>\n",
              "      <th>spec_B</th>\n",
              "    </tr>\n",
              "    <tr>\n",
              "      <th>id</th>\n",
              "      <th></th>\n",
              "    </tr>\n",
              "  </thead>\n",
              "  <tbody>\n",
              "    <tr>\n",
              "      <th>a0000001</th>\n",
              "      <td>C</td>\n",
              "    </tr>\n",
              "    <tr>\n",
              "      <th>a0000002</th>\n",
              "      <td>B</td>\n",
              "    </tr>\n",
              "    <tr>\n",
              "      <th>a0000003</th>\n",
              "      <td>S</td>\n",
              "    </tr>\n",
              "    <tr>\n",
              "      <th>a0000004</th>\n",
              "      <td>V</td>\n",
              "    </tr>\n",
              "    <tr>\n",
              "      <th>a0000005</th>\n",
              "      <td>S</td>\n",
              "    </tr>\n",
              "  </tbody>\n",
              "</table>\n",
              "</div>"
            ],
            "text/plain": [
              "         spec_B\n",
              "id             \n",
              "a0000001      C\n",
              "a0000002      B\n",
              "a0000003      S\n",
              "a0000004      V\n",
              "a0000005      S"
            ]
          },
          "metadata": {
            "tags": []
          },
          "execution_count": 12
        }
      ]
    },
    {
      "cell_type": "code",
      "metadata": {
        "id": "LKeB_6AmK0zx",
        "colab_type": "code",
        "colab": {
          "base_uri": "https://localhost:8080/",
          "height": 225
        },
        "outputId": "023bf140-0ad1-4e53-ae24-6b39fbdbfdcc"
      },
      "source": [
        "astDf = astDf.drop(labels = 'spec_B', axis = 1)\n",
        "astDf.head()"
      ],
      "execution_count": 13,
      "outputs": [
        {
          "output_type": "execute_result",
          "data": {
            "text/html": [
              "<div>\n",
              "<style scoped>\n",
              "    .dataframe tbody tr th:only-of-type {\n",
              "        vertical-align: middle;\n",
              "    }\n",
              "\n",
              "    .dataframe tbody tr th {\n",
              "        vertical-align: top;\n",
              "    }\n",
              "\n",
              "    .dataframe thead th {\n",
              "        text-align: right;\n",
              "    }\n",
              "</style>\n",
              "<table border=\"1\" class=\"dataframe\">\n",
              "  <thead>\n",
              "    <tr style=\"text-align: right;\">\n",
              "      <th></th>\n",
              "      <th>a</th>\n",
              "      <th>e</th>\n",
              "      <th>i</th>\n",
              "    </tr>\n",
              "    <tr>\n",
              "      <th>id</th>\n",
              "      <th></th>\n",
              "      <th></th>\n",
              "      <th></th>\n",
              "    </tr>\n",
              "  </thead>\n",
              "  <tbody>\n",
              "    <tr>\n",
              "      <th>a0000001</th>\n",
              "      <td>2.769165</td>\n",
              "      <td>0.076009</td>\n",
              "      <td>10.594067</td>\n",
              "    </tr>\n",
              "    <tr>\n",
              "      <th>a0000002</th>\n",
              "      <td>2.772466</td>\n",
              "      <td>0.230337</td>\n",
              "      <td>34.836234</td>\n",
              "    </tr>\n",
              "    <tr>\n",
              "      <th>a0000003</th>\n",
              "      <td>2.669150</td>\n",
              "      <td>0.256942</td>\n",
              "      <td>12.988919</td>\n",
              "    </tr>\n",
              "    <tr>\n",
              "      <th>a0000004</th>\n",
              "      <td>2.361418</td>\n",
              "      <td>0.088721</td>\n",
              "      <td>7.141771</td>\n",
              "    </tr>\n",
              "    <tr>\n",
              "      <th>a0000005</th>\n",
              "      <td>2.574249</td>\n",
              "      <td>0.191095</td>\n",
              "      <td>5.366988</td>\n",
              "    </tr>\n",
              "  </tbody>\n",
              "</table>\n",
              "</div>"
            ],
            "text/plain": [
              "                 a         e          i\n",
              "id                                     \n",
              "a0000001  2.769165  0.076009  10.594067\n",
              "a0000002  2.772466  0.230337  34.836234\n",
              "a0000003  2.669150  0.256942  12.988919\n",
              "a0000004  2.361418  0.088721   7.141771\n",
              "a0000005  2.574249  0.191095   5.366988"
            ]
          },
          "metadata": {
            "tags": []
          },
          "execution_count": 13
        }
      ]
    },
    {
      "cell_type": "markdown",
      "metadata": {
        "id": "UtMzvqEhHN0Y",
        "colab_type": "text"
      },
      "source": [
        "## **Scaling Data**"
      ]
    },
    {
      "cell_type": "code",
      "metadata": {
        "id": "pUa75DwAIK8O",
        "colab_type": "code",
        "colab": {
          "base_uri": "https://localhost:8080/",
          "height": 34
        },
        "outputId": "4d60f7c0-c462-4cca-865d-abbf64a4cead"
      },
      "source": [
        "astScaled = preprocessing.scale(astDf)\n",
        "astScaled.mean(0).round(2), astScaled.std(0)"
      ],
      "execution_count": 14,
      "outputs": [
        {
          "output_type": "execute_result",
          "data": {
            "text/plain": [
              "(array([ 0., -0.,  0.]), array([1., 1., 1.]))"
            ]
          },
          "metadata": {
            "tags": []
          },
          "execution_count": 14
        }
      ]
    },
    {
      "cell_type": "markdown",
      "metadata": {
        "id": "_dXWNh2IIBwF",
        "colab_type": "text"
      },
      "source": [
        "# **Data Visualization**"
      ]
    },
    {
      "cell_type": "code",
      "metadata": {
        "id": "gqSpfVlRLRdC",
        "colab_type": "code",
        "colab": {
          "base_uri": "https://localhost:8080/",
          "height": 492
        },
        "outputId": "e393feca-94b3-4152-e47a-cccb506e2bee"
      },
      "source": [
        "axs = pd.plotting.scatter_matrix(astDf, figsize=(10,7));\n",
        "for x in range(len(axs)):\n",
        "    for y in range(len(axs)):\n",
        "        if x == len(axs) - 1:\n",
        "            #to make x axis name vertical  \n",
        "            axs[x, y].xaxis.label.set_rotation(90);\n",
        "        if y == 0:    \n",
        "            axs[x, y].yaxis.label.set_rotation(0);\n",
        "pl.suptitle(\"Scatter Matrix\");"
      ],
      "execution_count": 15,
      "outputs": [
        {
          "output_type": "display_data",
          "data": {
            "image/png": "[encoded data removed]",
            "text/plain": [
              "<Figure size 720x504 with 9 Axes>"
            ]
          },
          "metadata": {
            "tags": []
          }
        }
      ]
    },
    {
      "cell_type": "code",
      "metadata": {
        "id": "gBQ6x-TYLd9I",
        "colab_type": "code",
        "colab": {
          "base_uri": "https://localhost:8080/",
          "height": 444
        },
        "outputId": "af4cf8d6-dae6-410d-a537-7bcf20c586a3"
      },
      "source": [
        "twodproj = manifold.TSNE(random_state = 7).fit_transform(astScaled)\n",
        "pl.figure(figsize = (10,7))\n",
        "pl.scatter(twodproj[:,0], twodproj[:,1], s = 4)\n",
        "pl.title(\"2D TSNE Projection of Asteroid Orbital Parameters\");"
      ],
      "execution_count": 16,
      "outputs": [
        {
          "output_type": "display_data",
          "data": {
            "image/png": "[encoded data removed]",
            "text/plain": [
              "<Figure size 720x504 with 1 Axes>"
            ]
          },
          "metadata": {
            "tags": []
          }
        }
      ]
    },
    {
      "cell_type": "markdown",
      "metadata": {
        "id": "amc7Mw87V1d8",
        "colab_type": "text"
      },
      "source": [
        "# **Clustering**"
      ]
    },
    {
      "cell_type": "markdown",
      "metadata": {
        "id": "33_LLhXgDnhw",
        "colab_type": "text"
      },
      "source": [
        "## **Finding Cluster Centers**"
      ]
    },
    {
      "cell_type": "code",
      "metadata": {
        "id": "DKUe18plDqpd",
        "colab_type": "code",
        "outputId": "81027f31-cae0-4d44-e33b-ebcd821fa7ab",
        "colab": {
          "base_uri": "https://localhost:8080/",
          "height": 34
        }
      },
      "source": [
        "numClusters = len(set(taxonomy.spec_B))\n",
        "numClusters"
      ],
      "execution_count": 17,
      "outputs": [
        {
          "output_type": "execute_result",
          "data": {
            "text/plain": [
              "7"
            ]
          },
          "metadata": {
            "tags": []
          },
          "execution_count": 17
        }
      ]
    },
    {
      "cell_type": "code",
      "metadata": {
        "id": "vRXScUUST8jL",
        "colab_type": "code",
        "colab": {
          "base_uri": "https://localhost:8080/",
          "height": 34
        },
        "outputId": "65b3447f-dd0c-4e5d-c439-78c782245300"
      },
      "source": [
        "astScaled.shape"
      ],
      "execution_count": 18,
      "outputs": [
        {
          "output_type": "execute_result",
          "data": {
            "text/plain": [
              "(1218, 3)"
            ]
          },
          "metadata": {
            "tags": []
          },
          "execution_count": 18
        }
      ]
    },
    {
      "cell_type": "code",
      "metadata": {
        "id": "KNNVDgAAM9q_",
        "colab_type": "code",
        "colab": {
          "base_uri": "https://localhost:8080/",
          "height": 151
        },
        "outputId": "a8bb9125-b81a-45ac-9982-e36e3b585ed5"
      },
      "source": [
        "clusterCenter = np.zeros((numClusters, 3))\n",
        "clusterTaxonLabels = set(taxonomy.spec_B)\n",
        "\n",
        "for taxon, clustNum in zip(clusterTaxonLabels, range(0, numClusters)):\n",
        "  indices = np.flatnonzero(taxonomy['spec_B'] == taxon)\n",
        "  a = astScaled[indices, 0]\n",
        "  e = astScaled[indices, 1]\n",
        "  i = astScaled[indices, 2]\n",
        "  clusterCenter[clustNum, 0] = a.mean()\n",
        "  clusterCenter[clustNum, 1] = e.mean()\n",
        "  clusterCenter[clustNum, 2] = i.mean()\n",
        "\n",
        "clusterCenter, clusterTaxonLabels"
      ],
      "execution_count": 19,
      "outputs": [
        {
          "output_type": "execute_result",
          "data": {
            "text/plain": [
              "(array([[ 0.13618196, -0.25535732, -0.04690076],\n",
              "        [ 0.36613307,  0.15410882,  0.0821883 ],\n",
              "        [ 0.62471205, -0.2275397 ,  0.17526339],\n",
              "        [ 0.28182171,  0.42539131,  0.46805252],\n",
              "        [-0.41748233, -0.0475098 , -0.19375695],\n",
              "        [ 0.34001336, -0.05983133,  0.23376257],\n",
              "        [-1.01345805, -0.5374898 , -0.45343574]]),\n",
              " {'B', 'C', 'K', 'L', 'S', 'V', 'X'})"
            ]
          },
          "metadata": {
            "tags": []
          },
          "execution_count": 19
        }
      ]
    },
    {
      "cell_type": "markdown",
      "metadata": {
        "id": "yVJ9hxVEVpeU",
        "colab_type": "text"
      },
      "source": [
        "Interestingly enough, one can see significant differences of the means between clusters"
      ]
    },
    {
      "cell_type": "markdown",
      "metadata": {
        "id": "yR0jQ6L8V8TP",
        "colab_type": "text"
      },
      "source": [
        "## **K-Means Clustering**"
      ]
    }
  ]
}